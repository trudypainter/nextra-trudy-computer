{
 "cells": [
  {
   "cell_type": "code",
   "execution_count": 98,
   "id": "b879a21c",
   "metadata": {},
   "outputs": [],
   "source": [
    "import json\n",
    "import os\n",
    "import requests\n",
    "from tqdm import tqdm\n"
   ]
  },
  {
   "cell_type": "markdown",
   "id": "9d1b2743",
   "metadata": {},
   "source": [
    "## get the project info from trudy.computer"
   ]
  },
  {
   "cell_type": "code",
   "execution_count": 99,
   "id": "72fe62c0",
   "metadata": {},
   "outputs": [],
   "source": [
    "res = requests.get(\"http://127.0.0.1:5001/api/landing\")\n",
    "meta = json.loads(res.text)"
   ]
  },
  {
   "cell_type": "markdown",
   "id": "49902408",
   "metadata": {},
   "source": [
    "# iterate over the file metadata and rewrite the markdown"
   ]
  },
  {
   "cell_type": "code",
   "execution_count": 100,
   "id": "9b177381",
   "metadata": {},
   "outputs": [
    {
     "name": "stderr",
     "output_type": "stream",
     "text": [
      "\r",
      "  0%|          | 0/12 [00:00<?, ?it/s]"
     ]
    },
    {
     "name": "stdout",
     "output_type": "stream",
     "text": [
      "wrote to  ./public/altruistic-botnet/1.jpg\n",
      "wrote to  ./public/altruistic-botnet/2.jpg\n"
     ]
    },
    {
     "name": "stderr",
     "output_type": "stream",
     "text": [
      "\r",
      "  8%|▊         | 1/12 [00:07<01:17,  7.06s/it]"
     ]
    },
    {
     "name": "stdout",
     "output_type": "stream",
     "text": [
      "wrote to  ./public/altruistic-botnet/3.jpg\n",
      "wrote to ./pages/projects/altruistic-botnet.mdx\n",
      "wrote to  ./public/trudy-computer/1.jpg\n",
      "wrote to  ./public/trudy-computer/2.jpg\n",
      "wrote to  ./public/trudy-computer/3.jpg\n"
     ]
    },
    {
     "name": "stderr",
     "output_type": "stream",
     "text": [
      "\r",
      " 17%|█▋        | 2/12 [00:14<01:14,  7.46s/it]"
     ]
    },
    {
     "name": "stdout",
     "output_type": "stream",
     "text": [
      "wrote to  ./public/trudy-computer/4.jpg\n",
      "wrote to ./pages/projects/trudy-computer.mdx\n",
      "wrote to  ./public/spotify-monster/1.jpg\n",
      "wrote to  ./public/spotify-monster/2.jpg\n",
      "wrote to  ./public/spotify-monster/3.jpg\n"
     ]
    },
    {
     "name": "stderr",
     "output_type": "stream",
     "text": [
      "\r",
      " 25%|██▌       | 3/12 [00:47<02:52, 19.16s/it]"
     ]
    },
    {
     "name": "stdout",
     "output_type": "stream",
     "text": [
      "wrote to  ./public/spotify-monster/4.jpg\n",
      "wrote to ./pages/projects/spotify-monster.mdx\n",
      "wrote to  ./public/chrome-social/1.jpg\n"
     ]
    },
    {
     "name": "stderr",
     "output_type": "stream",
     "text": [
      "\r",
      " 33%|███▎      | 4/12 [01:08<02:38, 19.79s/it]"
     ]
    },
    {
     "name": "stdout",
     "output_type": "stream",
     "text": [
      "wrote to  ./public/chrome-social/2.jpg\n",
      "<Vimeo vimeoId=\"661990464\" />\n",
      "wrote to ./pages/projects/chrome-social.mdx\n",
      "wrote to  ./public/breadcrumb/1.jpg\n"
     ]
    },
    {
     "name": "stderr",
     "output_type": "stream",
     "text": [
      "\r",
      " 42%|████▏     | 5/12 [01:16<01:49, 15.59s/it]"
     ]
    },
    {
     "name": "stdout",
     "output_type": "stream",
     "text": [
      "wrote to  ./public/breadcrumb/2.jpg\n",
      "<Vimeo vimeoId=\"504940062\" />\n",
      "wrote to ./pages/projects/breadcrumb.mdx\n"
     ]
    },
    {
     "name": "stderr",
     "output_type": "stream",
     "text": [
      "\r",
      " 50%|█████     | 6/12 [01:19<01:06, 11.09s/it]"
     ]
    },
    {
     "name": "stdout",
     "output_type": "stream",
     "text": [
      "wrote to  ./public/memoir-twitter-bot/1.jpg\n",
      "wrote to ./pages/projects/memoir-twitter-bot.mdx\n"
     ]
    },
    {
     "name": "stderr",
     "output_type": "stream",
     "text": [
      "\r",
      " 58%|█████▊    | 7/12 [01:20<00:39,  7.92s/it]"
     ]
    },
    {
     "name": "stdout",
     "output_type": "stream",
     "text": [
      "wrote to  ./public/personal-narrative/1.jpg\n",
      "wrote to ./pages/projects/personal-narrative.mdx\n",
      "wrote to  ./public/vsco-zine/1.jpg\n"
     ]
    },
    {
     "name": "stderr",
     "output_type": "stream",
     "text": [
      "\r",
      " 67%|██████▋   | 8/12 [01:24<00:27,  6.81s/it]"
     ]
    },
    {
     "name": "stdout",
     "output_type": "stream",
     "text": [
      "wrote to  ./public/vsco-zine/2.jpg\n",
      "<Vimeo vimeoId=\"662042387\" />\n",
      "wrote to ./pages/projects/vsco-zine.mdx\n"
     ]
    },
    {
     "name": "stderr",
     "output_type": "stream",
     "text": [
      "\r",
      " 75%|███████▌  | 9/12 [01:26<00:15,  5.22s/it]"
     ]
    },
    {
     "name": "stdout",
     "output_type": "stream",
     "text": [
      "wrote to  ./public/real-talk-radio/1.jpg\n",
      "<Vimeo vimeoId=\"554488451\" />\n",
      "wrote to ./pages/projects/real-talk-radio.mdx\n"
     ]
    },
    {
     "name": "stderr",
     "output_type": "stream",
     "text": [
      "\r",
      " 83%|████████▎ | 10/12 [01:29<00:08,  4.37s/it]"
     ]
    },
    {
     "name": "stdout",
     "output_type": "stream",
     "text": [
      "wrote to  ./public/spotify-mood/1.jpg\n",
      "wrote to ./pages/projects/spotify-mood.mdx\n"
     ]
    },
    {
     "name": "stderr",
     "output_type": "stream",
     "text": [
      "\r",
      " 92%|█████████▏| 11/12 [01:35<00:04,  4.93s/it]"
     ]
    },
    {
     "name": "stdout",
     "output_type": "stream",
     "text": [
      "wrote to  ./public/mrss21/1.jpg\n",
      "wrote to ./pages/projects/mrss21.mdx\n"
     ]
    },
    {
     "name": "stderr",
     "output_type": "stream",
     "text": [
      "100%|██████████| 12/12 [01:38<00:00,  8.17s/it]"
     ]
    },
    {
     "name": "stdout",
     "output_type": "stream",
     "text": [
      "wrote to  ./public/pokemon-archive/1.jpg\n",
      "wrote to ./pages/projects/pokemon-archive.mdx\n"
     ]
    },
    {
     "name": "stderr",
     "output_type": "stream",
     "text": [
      "\n"
     ]
    }
   ],
   "source": [
    "for file_meta in tqdm(meta['data'][4:]):\n",
    "    meta_dict = json.loads(file_meta)\n",
    "    \n",
    "    header_str = \"---\\n\"\n",
    "\n",
    "    # ⭐️ METADATA WRITING\n",
    "    header_str += 'title: ' + meta_dict['title'] + \"\\n\"\n",
    "    header_str += 'year: ' + meta_dict['year'] + \"\\n\"\n",
    "    header_str += 'location: ' + json.loads(meta_dict['location'])['name'] + \"\\n\"\n",
    "    header_str += 'description: ' + meta_dict['description'] + \"\\n\"\n",
    "    header_str += 'image: ' + meta_dict['image'] + \"\\n\"\n",
    "    header_str += 'tags: ' + \", \".join([json.loads(x)['name'] for x in meta_dict['tags']]) + \"\\n\"\n",
    "    header_str += 'priority: ' + meta_dict['priority'] + \"\\n\"\n",
    "    header_str += \"---\\n\"\n",
    "    \n",
    "    res = requests.get(\"http://127.0.0.1:5001/api/\" + meta_dict['url'])\n",
    "    all_file = header_str + \"\\n\" + res.text\n",
    "    \n",
    "    # ⭐️ MD FORMATTING\n",
    "    count = 1\n",
    "    copied_file = all_file.split(\"\\n\")[:]\n",
    "    for ix, line in enumerate(all_file.split(\"\\n\")):\n",
    "        if \"div\" in line:\n",
    "            video_id = line.split(\"/video/\")[1][:9]\n",
    "            copied_file[ix] = '<Vimeo vimeoId=\"' + str(video_id) + '\" />'\n",
    "            print(copied_file[ix])\n",
    "                \n",
    "        elif \"secure.notion\" in line: \n",
    "            filepath = './public/' + meta_dict['url'] + \"/\"\n",
    "            if not os.path.exists(filepath):\n",
    "                os.mkdir(filepath)\n",
    "            \n",
    "            if \"image:\" in line:\n",
    "                img_url = line.split(\": \")[1]\n",
    "                copied_file[ix] = \"image: \" + meta_dict['url'] + \"/\" + str(count) + '.jpg'\n",
    "            elif \"![\" in line:\n",
    "                img_url = line.split(\"](\")[1][:-2]\n",
    "                copied_file[ix] = \"![](/\" + meta_dict['url'] + \"/\" + str(count) + '.jpg)'\n",
    "\n",
    "            img_data = requests.get(img_url).content\n",
    "            # .public/SLUG/1.jpg\n",
    "            filepath = './public/' + meta_dict['url'] + \"/\" + str(count) + '.jpg'\n",
    "            with open(filepath, 'wb') as handler:\n",
    "                handler.write(img_data)\n",
    "            print(\"wrote to \", filepath)\n",
    "            count+=1\n",
    "            \n",
    "    # ⭐️ WRITE TO PAGE \n",
    "    final = \"\\n\".join(copied_file)     \n",
    "    f= open('./pages/projects/' + meta_dict['url'] + \".mdx\" , 'w+')\n",
    "    f.write(final)\n",
    "    f.close()\n",
    "    \n",
    "    print('wrote to ./pages/projects/' + meta_dict['url'] + \".mdx\")\n",
    "    \n",
    "    "
   ]
  },
  {
   "cell_type": "code",
   "execution_count": null,
   "id": "9890ae42",
   "metadata": {},
   "outputs": [],
   "source": []
  }
 ],
 "metadata": {
  "kernelspec": {
   "display_name": "Python 3",
   "language": "python",
   "name": "python3"
  },
  "language_info": {
   "codemirror_mode": {
    "name": "ipython",
    "version": 3
   },
   "file_extension": ".py",
   "mimetype": "text/x-python",
   "name": "python",
   "nbconvert_exporter": "python",
   "pygments_lexer": "ipython3",
   "version": "3.8.8"
  }
 },
 "nbformat": 4,
 "nbformat_minor": 5
}
